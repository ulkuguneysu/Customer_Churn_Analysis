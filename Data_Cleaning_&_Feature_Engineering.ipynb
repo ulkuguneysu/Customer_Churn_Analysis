{
 "cells": [
  {
   "cell_type": "markdown",
   "metadata": {
    "id": "8b61_Dx-ooWw"
   },
   "source": [
    "# DATA CLEANING AND FEATURE ENGINEERING"
   ]
  },
  {
   "cell_type": "markdown",
   "metadata": {
    "id": "b8SG-kTrooWy"
   },
   "source": [
    "Let's review our objectives."
   ]
  },
  {
   "cell_type": "markdown",
   "metadata": {
    "id": "z9xWAD8GooWz"
   },
   "source": [
    "## Objectives:\n",
    "\n",
    "* Check the dataset for missing data and placeholders.\n",
    "* Determine if data transformation is needed.\n",
    "* Creating new columns via feature engineering.\n",
    "* Drop unrelavent columns."
   ]
  },
  {
   "cell_type": "markdown",
   "metadata": {
    "id": "dWNFBIkgooW1"
   },
   "source": [
    "## IMPORT DATA"
   ]
  },
  {
   "cell_type": "code",
   "execution_count": 1,
   "metadata": {
    "id": "JsdcIMwhooW3"
   },
   "outputs": [],
   "source": [
    "import pandas as pd\n",
    "import matplotlib.pyplot as plt\n",
    "%matplotlib inline\n",
    "import numpy as np\n",
    "import seaborn as sns\n",
    "sns.set(rc={'figure.figsize':(10, 7)});\n",
    "\n",
    "import warnings\n",
    "warnings.filterwarnings('ignore')\n"
   ]
  },
  {
   "cell_type": "code",
   "execution_count": 2,
   "metadata": {
    "colab": {
     "base_uri": "https://localhost:8080/",
     "height": 393
    },
    "id": "uY1T6YdjooW9",
    "outputId": "79a32cfb-22e4-4816-c3ed-99923508b229",
    "scrolled": false
   },
   "outputs": [
    {
     "name": "stdout",
     "output_type": "stream",
     "text": [
      "DataFrame Shape: (3333, 21)\n"
     ]
    },
    {
     "data": {
      "text/html": [
       "<div>\n",
       "<style scoped>\n",
       "    .dataframe tbody tr th:only-of-type {\n",
       "        vertical-align: middle;\n",
       "    }\n",
       "\n",
       "    .dataframe tbody tr th {\n",
       "        vertical-align: top;\n",
       "    }\n",
       "\n",
       "    .dataframe thead th {\n",
       "        text-align: right;\n",
       "    }\n",
       "</style>\n",
       "<table border=\"1\" class=\"dataframe\">\n",
       "  <thead>\n",
       "    <tr style=\"text-align: right;\">\n",
       "      <th></th>\n",
       "      <th>state</th>\n",
       "      <th>account length</th>\n",
       "      <th>area code</th>\n",
       "      <th>phone number</th>\n",
       "      <th>international plan</th>\n",
       "      <th>voice mail plan</th>\n",
       "      <th>number vmail messages</th>\n",
       "      <th>total day minutes</th>\n",
       "      <th>total day calls</th>\n",
       "      <th>total day charge</th>\n",
       "      <th>...</th>\n",
       "      <th>total eve calls</th>\n",
       "      <th>total eve charge</th>\n",
       "      <th>total night minutes</th>\n",
       "      <th>total night calls</th>\n",
       "      <th>total night charge</th>\n",
       "      <th>total intl minutes</th>\n",
       "      <th>total intl calls</th>\n",
       "      <th>total intl charge</th>\n",
       "      <th>customer service calls</th>\n",
       "      <th>churn</th>\n",
       "    </tr>\n",
       "  </thead>\n",
       "  <tbody>\n",
       "    <tr>\n",
       "      <th>0</th>\n",
       "      <td>KS</td>\n",
       "      <td>128</td>\n",
       "      <td>415</td>\n",
       "      <td>382-4657</td>\n",
       "      <td>no</td>\n",
       "      <td>yes</td>\n",
       "      <td>25</td>\n",
       "      <td>265.1</td>\n",
       "      <td>110</td>\n",
       "      <td>45.07</td>\n",
       "      <td>...</td>\n",
       "      <td>99</td>\n",
       "      <td>16.78</td>\n",
       "      <td>244.7</td>\n",
       "      <td>91</td>\n",
       "      <td>11.01</td>\n",
       "      <td>10.0</td>\n",
       "      <td>3</td>\n",
       "      <td>2.70</td>\n",
       "      <td>1</td>\n",
       "      <td>False</td>\n",
       "    </tr>\n",
       "    <tr>\n",
       "      <th>1</th>\n",
       "      <td>OH</td>\n",
       "      <td>107</td>\n",
       "      <td>415</td>\n",
       "      <td>371-7191</td>\n",
       "      <td>no</td>\n",
       "      <td>yes</td>\n",
       "      <td>26</td>\n",
       "      <td>161.6</td>\n",
       "      <td>123</td>\n",
       "      <td>27.47</td>\n",
       "      <td>...</td>\n",
       "      <td>103</td>\n",
       "      <td>16.62</td>\n",
       "      <td>254.4</td>\n",
       "      <td>103</td>\n",
       "      <td>11.45</td>\n",
       "      <td>13.7</td>\n",
       "      <td>3</td>\n",
       "      <td>3.70</td>\n",
       "      <td>1</td>\n",
       "      <td>False</td>\n",
       "    </tr>\n",
       "    <tr>\n",
       "      <th>2</th>\n",
       "      <td>NJ</td>\n",
       "      <td>137</td>\n",
       "      <td>415</td>\n",
       "      <td>358-1921</td>\n",
       "      <td>no</td>\n",
       "      <td>no</td>\n",
       "      <td>0</td>\n",
       "      <td>243.4</td>\n",
       "      <td>114</td>\n",
       "      <td>41.38</td>\n",
       "      <td>...</td>\n",
       "      <td>110</td>\n",
       "      <td>10.30</td>\n",
       "      <td>162.6</td>\n",
       "      <td>104</td>\n",
       "      <td>7.32</td>\n",
       "      <td>12.2</td>\n",
       "      <td>5</td>\n",
       "      <td>3.29</td>\n",
       "      <td>0</td>\n",
       "      <td>False</td>\n",
       "    </tr>\n",
       "    <tr>\n",
       "      <th>3</th>\n",
       "      <td>OH</td>\n",
       "      <td>84</td>\n",
       "      <td>408</td>\n",
       "      <td>375-9999</td>\n",
       "      <td>yes</td>\n",
       "      <td>no</td>\n",
       "      <td>0</td>\n",
       "      <td>299.4</td>\n",
       "      <td>71</td>\n",
       "      <td>50.90</td>\n",
       "      <td>...</td>\n",
       "      <td>88</td>\n",
       "      <td>5.26</td>\n",
       "      <td>196.9</td>\n",
       "      <td>89</td>\n",
       "      <td>8.86</td>\n",
       "      <td>6.6</td>\n",
       "      <td>7</td>\n",
       "      <td>1.78</td>\n",
       "      <td>2</td>\n",
       "      <td>False</td>\n",
       "    </tr>\n",
       "    <tr>\n",
       "      <th>4</th>\n",
       "      <td>OK</td>\n",
       "      <td>75</td>\n",
       "      <td>415</td>\n",
       "      <td>330-6626</td>\n",
       "      <td>yes</td>\n",
       "      <td>no</td>\n",
       "      <td>0</td>\n",
       "      <td>166.7</td>\n",
       "      <td>113</td>\n",
       "      <td>28.34</td>\n",
       "      <td>...</td>\n",
       "      <td>122</td>\n",
       "      <td>12.61</td>\n",
       "      <td>186.9</td>\n",
       "      <td>121</td>\n",
       "      <td>8.41</td>\n",
       "      <td>10.1</td>\n",
       "      <td>3</td>\n",
       "      <td>2.73</td>\n",
       "      <td>3</td>\n",
       "      <td>False</td>\n",
       "    </tr>\n",
       "    <tr>\n",
       "      <th>5</th>\n",
       "      <td>AL</td>\n",
       "      <td>118</td>\n",
       "      <td>510</td>\n",
       "      <td>391-8027</td>\n",
       "      <td>yes</td>\n",
       "      <td>no</td>\n",
       "      <td>0</td>\n",
       "      <td>223.4</td>\n",
       "      <td>98</td>\n",
       "      <td>37.98</td>\n",
       "      <td>...</td>\n",
       "      <td>101</td>\n",
       "      <td>18.75</td>\n",
       "      <td>203.9</td>\n",
       "      <td>118</td>\n",
       "      <td>9.18</td>\n",
       "      <td>6.3</td>\n",
       "      <td>6</td>\n",
       "      <td>1.70</td>\n",
       "      <td>0</td>\n",
       "      <td>False</td>\n",
       "    </tr>\n",
       "    <tr>\n",
       "      <th>6</th>\n",
       "      <td>MA</td>\n",
       "      <td>121</td>\n",
       "      <td>510</td>\n",
       "      <td>355-9993</td>\n",
       "      <td>no</td>\n",
       "      <td>yes</td>\n",
       "      <td>24</td>\n",
       "      <td>218.2</td>\n",
       "      <td>88</td>\n",
       "      <td>37.09</td>\n",
       "      <td>...</td>\n",
       "      <td>108</td>\n",
       "      <td>29.62</td>\n",
       "      <td>212.6</td>\n",
       "      <td>118</td>\n",
       "      <td>9.57</td>\n",
       "      <td>7.5</td>\n",
       "      <td>7</td>\n",
       "      <td>2.03</td>\n",
       "      <td>3</td>\n",
       "      <td>False</td>\n",
       "    </tr>\n",
       "    <tr>\n",
       "      <th>7</th>\n",
       "      <td>MO</td>\n",
       "      <td>147</td>\n",
       "      <td>415</td>\n",
       "      <td>329-9001</td>\n",
       "      <td>yes</td>\n",
       "      <td>no</td>\n",
       "      <td>0</td>\n",
       "      <td>157.0</td>\n",
       "      <td>79</td>\n",
       "      <td>26.69</td>\n",
       "      <td>...</td>\n",
       "      <td>94</td>\n",
       "      <td>8.76</td>\n",
       "      <td>211.8</td>\n",
       "      <td>96</td>\n",
       "      <td>9.53</td>\n",
       "      <td>7.1</td>\n",
       "      <td>6</td>\n",
       "      <td>1.92</td>\n",
       "      <td>0</td>\n",
       "      <td>False</td>\n",
       "    </tr>\n",
       "    <tr>\n",
       "      <th>8</th>\n",
       "      <td>LA</td>\n",
       "      <td>117</td>\n",
       "      <td>408</td>\n",
       "      <td>335-4719</td>\n",
       "      <td>no</td>\n",
       "      <td>no</td>\n",
       "      <td>0</td>\n",
       "      <td>184.5</td>\n",
       "      <td>97</td>\n",
       "      <td>31.37</td>\n",
       "      <td>...</td>\n",
       "      <td>80</td>\n",
       "      <td>29.89</td>\n",
       "      <td>215.8</td>\n",
       "      <td>90</td>\n",
       "      <td>9.71</td>\n",
       "      <td>8.7</td>\n",
       "      <td>4</td>\n",
       "      <td>2.35</td>\n",
       "      <td>1</td>\n",
       "      <td>False</td>\n",
       "    </tr>\n",
       "    <tr>\n",
       "      <th>9</th>\n",
       "      <td>WV</td>\n",
       "      <td>141</td>\n",
       "      <td>415</td>\n",
       "      <td>330-8173</td>\n",
       "      <td>yes</td>\n",
       "      <td>yes</td>\n",
       "      <td>37</td>\n",
       "      <td>258.6</td>\n",
       "      <td>84</td>\n",
       "      <td>43.96</td>\n",
       "      <td>...</td>\n",
       "      <td>111</td>\n",
       "      <td>18.87</td>\n",
       "      <td>326.4</td>\n",
       "      <td>97</td>\n",
       "      <td>14.69</td>\n",
       "      <td>11.2</td>\n",
       "      <td>5</td>\n",
       "      <td>3.02</td>\n",
       "      <td>0</td>\n",
       "      <td>False</td>\n",
       "    </tr>\n",
       "  </tbody>\n",
       "</table>\n",
       "<p>10 rows × 21 columns</p>\n",
       "</div>"
      ],
      "text/plain": [
       "  state  account length  area code phone number international plan  \\\n",
       "0    KS             128        415     382-4657                 no   \n",
       "1    OH             107        415     371-7191                 no   \n",
       "2    NJ             137        415     358-1921                 no   \n",
       "3    OH              84        408     375-9999                yes   \n",
       "4    OK              75        415     330-6626                yes   \n",
       "5    AL             118        510     391-8027                yes   \n",
       "6    MA             121        510     355-9993                 no   \n",
       "7    MO             147        415     329-9001                yes   \n",
       "8    LA             117        408     335-4719                 no   \n",
       "9    WV             141        415     330-8173                yes   \n",
       "\n",
       "  voice mail plan  number vmail messages  total day minutes  total day calls  \\\n",
       "0             yes                     25              265.1              110   \n",
       "1             yes                     26              161.6              123   \n",
       "2              no                      0              243.4              114   \n",
       "3              no                      0              299.4               71   \n",
       "4              no                      0              166.7              113   \n",
       "5              no                      0              223.4               98   \n",
       "6             yes                     24              218.2               88   \n",
       "7              no                      0              157.0               79   \n",
       "8              no                      0              184.5               97   \n",
       "9             yes                     37              258.6               84   \n",
       "\n",
       "   total day charge  ...  total eve calls  total eve charge  \\\n",
       "0             45.07  ...               99             16.78   \n",
       "1             27.47  ...              103             16.62   \n",
       "2             41.38  ...              110             10.30   \n",
       "3             50.90  ...               88              5.26   \n",
       "4             28.34  ...              122             12.61   \n",
       "5             37.98  ...              101             18.75   \n",
       "6             37.09  ...              108             29.62   \n",
       "7             26.69  ...               94              8.76   \n",
       "8             31.37  ...               80             29.89   \n",
       "9             43.96  ...              111             18.87   \n",
       "\n",
       "   total night minutes  total night calls  total night charge  \\\n",
       "0                244.7                 91               11.01   \n",
       "1                254.4                103               11.45   \n",
       "2                162.6                104                7.32   \n",
       "3                196.9                 89                8.86   \n",
       "4                186.9                121                8.41   \n",
       "5                203.9                118                9.18   \n",
       "6                212.6                118                9.57   \n",
       "7                211.8                 96                9.53   \n",
       "8                215.8                 90                9.71   \n",
       "9                326.4                 97               14.69   \n",
       "\n",
       "   total intl minutes  total intl calls  total intl charge  \\\n",
       "0                10.0                 3               2.70   \n",
       "1                13.7                 3               3.70   \n",
       "2                12.2                 5               3.29   \n",
       "3                 6.6                 7               1.78   \n",
       "4                10.1                 3               2.73   \n",
       "5                 6.3                 6               1.70   \n",
       "6                 7.5                 7               2.03   \n",
       "7                 7.1                 6               1.92   \n",
       "8                 8.7                 4               2.35   \n",
       "9                11.2                 5               3.02   \n",
       "\n",
       "   customer service calls  churn  \n",
       "0                       1  False  \n",
       "1                       1  False  \n",
       "2                       0  False  \n",
       "3                       2  False  \n",
       "4                       3  False  \n",
       "5                       0  False  \n",
       "6                       3  False  \n",
       "7                       0  False  \n",
       "8                       1  False  \n",
       "9                       0  False  \n",
       "\n",
       "[10 rows x 21 columns]"
      ]
     },
     "execution_count": 2,
     "metadata": {},
     "output_type": "execute_result"
    }
   ],
   "source": [
    "df = pd.read_csv('//Users/ulku/Data Science 2.1 /Module_3/dsc-mod-3-project-v2-1-online-ds-sp-000-master/CSV_Files/customer_churn_data.csv')\n",
    "print('DataFrame Shape:', df.shape)\n",
    "df.head(10)"
   ]
  },
  {
   "cell_type": "markdown",
   "metadata": {
    "id": "qAgxeQC2ooXB"
   },
   "source": [
    "Let's convert the column names more python friendly."
   ]
  },
  {
   "cell_type": "code",
   "execution_count": 3,
   "metadata": {
    "id": "L43CoSkSooXC"
   },
   "outputs": [],
   "source": [
    "df.columns = df.columns.map(lambda col: col.replace(' ','_'))"
   ]
  },
  {
   "cell_type": "markdown",
   "metadata": {
    "id": "Yi1CiJMcooXG"
   },
   "source": [
    "Let's check out data types for each column, null values and placeholders."
   ]
  },
  {
   "cell_type": "code",
   "execution_count": 4,
   "metadata": {
    "colab": {
     "base_uri": "https://localhost:8080/"
    },
    "id": "BI0r3uiTooXH",
    "outputId": "c70a4074-daa3-46ef-96b0-bc18b3c3bdfd",
    "scrolled": false
   },
   "outputs": [
    {
     "name": "stdout",
     "output_type": "stream",
     "text": [
      "<class 'pandas.core.frame.DataFrame'>\n",
      "RangeIndex: 3333 entries, 0 to 3332\n",
      "Data columns (total 21 columns):\n",
      " #   Column                  Non-Null Count  Dtype  \n",
      "---  ------                  --------------  -----  \n",
      " 0   state                   3333 non-null   object \n",
      " 1   account_length          3333 non-null   int64  \n",
      " 2   area_code               3333 non-null   int64  \n",
      " 3   phone_number            3333 non-null   object \n",
      " 4   international_plan      3333 non-null   object \n",
      " 5   voice_mail_plan         3333 non-null   object \n",
      " 6   number_vmail_messages   3333 non-null   int64  \n",
      " 7   total_day_minutes       3333 non-null   float64\n",
      " 8   total_day_calls         3333 non-null   int64  \n",
      " 9   total_day_charge        3333 non-null   float64\n",
      " 10  total_eve_minutes       3333 non-null   float64\n",
      " 11  total_eve_calls         3333 non-null   int64  \n",
      " 12  total_eve_charge        3333 non-null   float64\n",
      " 13  total_night_minutes     3333 non-null   float64\n",
      " 14  total_night_calls       3333 non-null   int64  \n",
      " 15  total_night_charge      3333 non-null   float64\n",
      " 16  total_intl_minutes      3333 non-null   float64\n",
      " 17  total_intl_calls        3333 non-null   int64  \n",
      " 18  total_intl_charge       3333 non-null   float64\n",
      " 19  customer_service_calls  3333 non-null   int64  \n",
      " 20  churn                   3333 non-null   bool   \n",
      "dtypes: bool(1), float64(8), int64(8), object(4)\n",
      "memory usage: 524.2+ KB\n"
     ]
    }
   ],
   "source": [
    "df.info()"
   ]
  },
  {
   "cell_type": "markdown",
   "metadata": {
    "id": "mLa_QMZsooXK"
   },
   "source": [
    "Our dataset has no null values. Let's check for placeholders and value counts for each column."
   ]
  },
  {
   "cell_type": "code",
   "execution_count": 5,
   "metadata": {
    "colab": {
     "base_uri": "https://localhost:8080/"
    },
    "id": "GbCDI7hZooXL",
    "outputId": "ee99d346-35e1-42a4-866b-5025c6886541",
    "scrolled": false
   },
   "outputs": [
    {
     "name": "stdout",
     "output_type": "stream",
     "text": [
      "Column Name: state \n",
      "\n",
      "WV    106\n",
      "MN     84\n",
      "NY     83\n",
      "AL     80\n",
      "WI     78\n",
      "OH     78\n",
      "OR     78\n",
      "VA     77\n",
      "WY     77\n",
      "CT     74\n",
      "VT     73\n",
      "MI     73\n",
      "ID     73\n",
      "TX     72\n",
      "UT     72\n",
      "IN     71\n",
      "MD     70\n",
      "KS     70\n",
      "MT     68\n",
      "NC     68\n",
      "NJ     68\n",
      "WA     66\n",
      "NV     66\n",
      "CO     66\n",
      "MA     65\n",
      "RI     65\n",
      "MS     65\n",
      "AZ     64\n",
      "MO     63\n",
      "FL     63\n",
      "ND     62\n",
      "ME     62\n",
      "NM     62\n",
      "NE     61\n",
      "DE     61\n",
      "OK     61\n",
      "SC     60\n",
      "SD     60\n",
      "KY     59\n",
      "IL     58\n",
      "NH     56\n",
      "AR     55\n",
      "DC     54\n",
      "GA     54\n",
      "TN     53\n",
      "HI     53\n",
      "AK     52\n",
      "LA     51\n",
      "PA     45\n",
      "IA     44\n",
      "CA     34\n",
      "Name: state, dtype: int64\n",
      "-------------------------------------------------------\n",
      "\n",
      "\n",
      "Column Name: account_length \n",
      "\n",
      "105    43\n",
      "87     42\n",
      "93     40\n",
      "101    40\n",
      "90     39\n",
      "       ..\n",
      "191     1\n",
      "199     1\n",
      "215     1\n",
      "221     1\n",
      "2       1\n",
      "Name: account_length, Length: 212, dtype: int64\n",
      "-------------------------------------------------------\n",
      "\n",
      "\n",
      "Column Name: area_code \n",
      "\n",
      "415    1655\n",
      "510     840\n",
      "408     838\n",
      "Name: area_code, dtype: int64\n",
      "-------------------------------------------------------\n",
      "\n",
      "\n",
      "Column Name: phone_number \n",
      "\n",
      "374-6966    1\n",
      "393-4086    1\n",
      "390-3401    1\n",
      "408-2002    1\n",
      "363-7802    1\n",
      "           ..\n",
      "409-3786    1\n",
      "403-9766    1\n",
      "422-3454    1\n",
      "363-3515    1\n",
      "396-4869    1\n",
      "Name: phone_number, Length: 3333, dtype: int64\n",
      "-------------------------------------------------------\n",
      "\n",
      "\n",
      "Column Name: international_plan \n",
      "\n",
      "no     3010\n",
      "yes     323\n",
      "Name: international_plan, dtype: int64\n",
      "-------------------------------------------------------\n",
      "\n",
      "\n",
      "Column Name: voice_mail_plan \n",
      "\n",
      "no     2411\n",
      "yes     922\n",
      "Name: voice_mail_plan, dtype: int64\n",
      "-------------------------------------------------------\n",
      "\n",
      "\n",
      "Column Name: number_vmail_messages \n",
      "\n",
      "0     2411\n",
      "31      60\n",
      "29      53\n",
      "28      51\n",
      "33      46\n",
      "27      44\n",
      "30      44\n",
      "24      42\n",
      "26      41\n",
      "32      41\n",
      "25      37\n",
      "23      36\n",
      "36      34\n",
      "35      32\n",
      "22      32\n",
      "39      30\n",
      "37      29\n",
      "34      29\n",
      "21      28\n",
      "38      25\n",
      "20      22\n",
      "19      19\n",
      "40      16\n",
      "42      15\n",
      "17      14\n",
      "41      13\n",
      "16      13\n",
      "43       9\n",
      "15       9\n",
      "18       7\n",
      "44       7\n",
      "14       7\n",
      "45       6\n",
      "12       6\n",
      "46       4\n",
      "13       4\n",
      "47       3\n",
      "8        2\n",
      "48       2\n",
      "50       2\n",
      "9        2\n",
      "11       2\n",
      "49       1\n",
      "10       1\n",
      "4        1\n",
      "51       1\n",
      "Name: number_vmail_messages, dtype: int64\n",
      "-------------------------------------------------------\n",
      "\n",
      "\n",
      "Column Name: total_day_minutes \n",
      "\n",
      "174.5    8\n",
      "159.5    8\n",
      "154.0    8\n",
      "175.4    7\n",
      "162.3    7\n",
      "        ..\n",
      "199.9    1\n",
      "105.8    1\n",
      "125.6    1\n",
      "179.8    1\n",
      "270.8    1\n",
      "Name: total_day_minutes, Length: 1667, dtype: int64\n",
      "-------------------------------------------------------\n",
      "\n",
      "\n",
      "Column Name: total_day_calls \n",
      "\n",
      "102    78\n",
      "105    75\n",
      "107    69\n",
      "95     69\n",
      "104    68\n",
      "       ..\n",
      "149     1\n",
      "157     1\n",
      "36      1\n",
      "30      1\n",
      "165     1\n",
      "Name: total_day_calls, Length: 119, dtype: int64\n",
      "-------------------------------------------------------\n",
      "\n",
      "\n",
      "Column Name: total_day_charge \n",
      "\n",
      "27.12    8\n",
      "26.18    8\n",
      "29.67    8\n",
      "31.18    7\n",
      "27.59    7\n",
      "        ..\n",
      "19.36    1\n",
      "16.95    1\n",
      "34.12    1\n",
      "48.35    1\n",
      "13.28    1\n",
      "Name: total_day_charge, Length: 1667, dtype: int64\n",
      "-------------------------------------------------------\n",
      "\n",
      "\n",
      "Column Name: total_eve_minutes \n",
      "\n",
      "169.9    9\n",
      "230.9    7\n",
      "209.4    7\n",
      "201.0    7\n",
      "220.6    7\n",
      "        ..\n",
      "335.0    1\n",
      "258.9    1\n",
      "134.7    1\n",
      "318.8    1\n",
      "317.2    1\n",
      "Name: total_eve_minutes, Length: 1611, dtype: int64\n",
      "-------------------------------------------------------\n",
      "\n",
      "\n",
      "Column Name: total_eve_calls \n",
      "\n",
      "105    80\n",
      "94     79\n",
      "108    71\n",
      "97     70\n",
      "102    70\n",
      "       ..\n",
      "45      1\n",
      "49      1\n",
      "145     1\n",
      "153     1\n",
      "0       1\n",
      "Name: total_eve_calls, Length: 123, dtype: int64\n",
      "-------------------------------------------------------\n",
      "\n",
      "\n",
      "Column Name: total_eve_charge \n",
      "\n",
      "14.25    11\n",
      "16.12    11\n",
      "15.90    10\n",
      "18.62     9\n",
      "14.44     9\n",
      "         ..\n",
      "12.64     1\n",
      "13.83     1\n",
      "11.39     1\n",
      "28.03     1\n",
      "20.53     1\n",
      "Name: total_eve_charge, Length: 1440, dtype: int64\n",
      "-------------------------------------------------------\n",
      "\n",
      "\n",
      "Column Name: total_night_minutes \n",
      "\n",
      "210.0    8\n",
      "214.6    8\n",
      "197.4    8\n",
      "191.4    8\n",
      "188.2    8\n",
      "        ..\n",
      "132.3    1\n",
      "306.2    1\n",
      "293.5    1\n",
      "271.7    1\n",
      "182.6    1\n",
      "Name: total_night_minutes, Length: 1591, dtype: int64\n",
      "-------------------------------------------------------\n",
      "\n",
      "\n",
      "Column Name: total_night_calls \n",
      "\n",
      "105    84\n",
      "104    78\n",
      "91     76\n",
      "102    72\n",
      "100    69\n",
      "       ..\n",
      "164     1\n",
      "166     1\n",
      "33      1\n",
      "149     1\n",
      "36      1\n",
      "Name: total_night_calls, Length: 120, dtype: int64\n",
      "-------------------------------------------------------\n",
      "\n",
      "\n",
      "Column Name: total_night_charge \n",
      "\n",
      "9.66     15\n",
      "9.45     15\n",
      "8.88     14\n",
      "8.47     14\n",
      "7.69     13\n",
      "         ..\n",
      "14.65     1\n",
      "6.46      1\n",
      "3.94      1\n",
      "15.74     1\n",
      "6.14      1\n",
      "Name: total_night_charge, Length: 933, dtype: int64\n",
      "-------------------------------------------------------\n",
      "\n",
      "\n",
      "Column Name: total_intl_minutes \n",
      "\n",
      "10.0    62\n",
      "11.3    59\n",
      "9.8     56\n",
      "10.9    56\n",
      "10.1    53\n",
      "        ..\n",
      "18.9     1\n",
      "1.3      1\n",
      "2.7      1\n",
      "2.6      1\n",
      "3.1      1\n",
      "Name: total_intl_minutes, Length: 162, dtype: int64\n",
      "-------------------------------------------------------\n",
      "\n",
      "\n",
      "Column Name: total_intl_calls \n",
      "\n",
      "3     668\n",
      "4     619\n",
      "2     489\n",
      "5     472\n",
      "6     336\n",
      "7     218\n",
      "1     160\n",
      "8     116\n",
      "9     109\n",
      "10     50\n",
      "11     28\n",
      "0      18\n",
      "12     15\n",
      "13     14\n",
      "15      7\n",
      "14      6\n",
      "18      3\n",
      "16      2\n",
      "19      1\n",
      "17      1\n",
      "20      1\n",
      "Name: total_intl_calls, dtype: int64\n",
      "-------------------------------------------------------\n",
      "\n",
      "\n",
      "Column Name: total_intl_charge \n",
      "\n",
      "2.70    62\n",
      "3.05    59\n",
      "2.65    56\n",
      "2.94    56\n",
      "2.73    53\n",
      "        ..\n",
      "0.68     1\n",
      "4.83     1\n",
      "0.84     1\n",
      "0.30     1\n",
      "5.40     1\n",
      "Name: total_intl_charge, Length: 162, dtype: int64\n",
      "-------------------------------------------------------\n",
      "\n",
      "\n",
      "Column Name: customer_service_calls \n",
      "\n",
      "1    1181\n",
      "2     759\n",
      "0     697\n",
      "3     429\n",
      "4     166\n",
      "5      66\n",
      "6      22\n",
      "7       9\n",
      "9       2\n",
      "8       2\n",
      "Name: customer_service_calls, dtype: int64\n",
      "-------------------------------------------------------\n",
      "\n",
      "\n",
      "Column Name: churn \n",
      "\n",
      "False    2850\n",
      "True      483\n",
      "Name: churn, dtype: int64\n",
      "-------------------------------------------------------\n",
      "\n",
      "\n"
     ]
    }
   ],
   "source": [
    "for col in df.columns:\n",
    "    print('Column Name:', col,'\\n')\n",
    "    print(df[col].value_counts())\n",
    "    print('-------------------------------------------------------')\n",
    "    print('\\n')"
   ]
  },
  {
   "cell_type": "markdown",
   "metadata": {
    "id": "mDGcb3kSooXP"
   },
   "source": [
    "#### *Notes:*\n",
    "Our dataset doesn't suffer from missing data or placeholders. We will continue transforming object type columns into binary(numeric) type and creating meaningful columns.\n",
    "\n",
    "__state:__ Name of the states. We will merge our dataset with 2019 population percentage by state dataset to create a percentage of customers by state column to show what this customer represents regarding the whole population. This data is collected from www.census.gov.\n",
    "\n",
    "__account_length:__ Number of days a customer has been with the company.\n",
    "\n",
    "__area_code:__ Area code is a numerical column. It is represented by 3 different 3-digit-number. We will save this column as object data type.\n",
    "\n",
    "__phone_number:__ It has 3333 unique values, no duplicates. It represents phone numbers after the area code. We will drop it.\n",
    "\n",
    "__international_plan:__ A 'yes - no' column that we will convert to binary.\n",
    "\n",
    "__voice_mail_plan:__ Another 'yes - no' column that we will convert to binary.\n",
    "\n",
    "__customer_service_calls:__ The number of the customer service calls made.\n",
    "\n",
    "__churn:__ A Boolean column that we will transform into binary.\n",
    "\n",
    "__total_charge:__ This columns will be a sum of all charges columns.\n",
    "\n",
    "__total_calls:__ Number of total calls including day, evening, night, and international calls.\n",
    "\n",
    "__total_minutes:__ Sum of all the minutes used by the customer."
   ]
  },
  {
   "cell_type": "markdown",
   "metadata": {
    "id": "Lz3ploMTooXQ"
   },
   "source": [
    "## DATA TRANSFORMATION"
   ]
  },
  {
   "cell_type": "markdown",
   "metadata": {
    "id": "V5KFgQHQooXQ"
   },
   "source": [
    "###  state"
   ]
  },
  {
   "cell_type": "markdown",
   "metadata": {},
   "source": [
    "Let's check how state column is distributed."
   ]
  },
  {
   "cell_type": "code",
   "execution_count": 6,
   "metadata": {
    "scrolled": false
   },
   "outputs": [
    {
     "data": {
      "image/png": "[encoded data removed]",
      "text/plain": [
       "<Figure size 1296x864 with 1 Axes>"
      ]
     },
     "metadata": {},
     "output_type": "display_data"
    }
   ],
   "source": [
    "plt.figure(figsize=(18,12))\n",
    "sns.countplot(y='state', \n",
    "              hue= 'churn',  \n",
    "              order = df['state'].value_counts().index, \n",
    "              dodge=False, \n",
    "              data=df);"
   ]
  },
  {
   "cell_type": "code",
   "execution_count": 7,
   "metadata": {
    "colab": {
     "base_uri": "https://localhost:8080/",
     "height": 204
    },
    "id": "ABJJANCuooXR",
    "outputId": "1539eee3-7bbc-478f-da0c-ff47dc4837de"
   },
   "outputs": [
    {
     "data": {
      "text/html": [
       "<div>\n",
       "<style scoped>\n",
       "    .dataframe tbody tr th:only-of-type {\n",
       "        vertical-align: middle;\n",
       "    }\n",
       "\n",
       "    .dataframe tbody tr th {\n",
       "        vertical-align: top;\n",
       "    }\n",
       "\n",
       "    .dataframe thead th {\n",
       "        text-align: right;\n",
       "    }\n",
       "</style>\n",
       "<table border=\"1\" class=\"dataframe\">\n",
       "  <thead>\n",
       "    <tr style=\"text-align: right;\">\n",
       "      <th></th>\n",
       "      <th>state</th>\n",
       "      <th>percentage</th>\n",
       "    </tr>\n",
       "  </thead>\n",
       "  <tbody>\n",
       "    <tr>\n",
       "      <th>0</th>\n",
       "      <td>CA</td>\n",
       "      <td>11.91</td>\n",
       "    </tr>\n",
       "    <tr>\n",
       "      <th>1</th>\n",
       "      <td>TX</td>\n",
       "      <td>8.74</td>\n",
       "    </tr>\n",
       "    <tr>\n",
       "      <th>2</th>\n",
       "      <td>FL</td>\n",
       "      <td>6.47</td>\n",
       "    </tr>\n",
       "    <tr>\n",
       "      <th>3</th>\n",
       "      <td>NY</td>\n",
       "      <td>5.86</td>\n",
       "    </tr>\n",
       "    <tr>\n",
       "      <th>4</th>\n",
       "      <td>IL</td>\n",
       "      <td>3.86</td>\n",
       "    </tr>\n",
       "  </tbody>\n",
       "</table>\n",
       "</div>"
      ],
      "text/plain": [
       "  state  percentage\n",
       "0    CA       11.91\n",
       "1    TX        8.74\n",
       "2    FL        6.47\n",
       "3    NY        5.86\n",
       "4    IL        3.86"
      ]
     },
     "execution_count": 7,
     "metadata": {},
     "output_type": "execute_result"
    }
   ],
   "source": [
    "df_pop = pd.read_csv('//Users/ulku/Data Science 2.1 /Module_3/dsc-mod-3-project-v2-1-online-ds-sp-000-master/CSV_Files/population.csv', delimiter= '\\t' ).drop(['0', 'population'], axis=1)\n",
    "df_pop.head()"
   ]
  },
  {
   "cell_type": "code",
   "execution_count": 8,
   "metadata": {
    "id": "43bsomXUooXZ",
    "scrolled": true
   },
   "outputs": [],
   "source": [
    "df = pd.merge(left=df, right=df_pop, left_on='state', right_on='state', how='left')"
   ]
  },
  {
   "cell_type": "code",
   "execution_count": 9,
   "metadata": {
    "id": "LoaqKqP6ooXd"
   },
   "outputs": [],
   "source": [
    "df['customer_percentage_by_state'] = np.nan\n",
    "\n",
    "for i in range(len(df)):\n",
    "    for state_name in df.state.unique():\n",
    "        df['customer_percentage_by_state'][i] = round((len(df[df['state'] == state_name]) * df['percentage'][i]) / len(df), 3)"
   ]
  },
  {
   "cell_type": "code",
   "execution_count": 10,
   "metadata": {
    "id": "lZUH0CMjooXg"
   },
   "outputs": [],
   "source": [
    "df.drop('percentage', axis=1,inplace=True)"
   ]
  },
  {
   "cell_type": "markdown",
   "metadata": {
    "id": "Fuy8fpwdooXj"
   },
   "source": [
    "### area_code"
   ]
  },
  {
   "cell_type": "code",
   "execution_count": 13,
   "metadata": {
    "id": "u38Ug2MdooXk"
   },
   "outputs": [],
   "source": [
    "df['area_code'] = df['area_code'].astype('object')"
   ]
  },
  {
   "cell_type": "code",
   "execution_count": 14,
   "metadata": {
    "colab": {
     "base_uri": "https://localhost:8080/",
     "height": 285
    },
    "id": "EJUdw00CooXn",
    "outputId": "8bd4f421-cb60-420e-ecd2-2567ab71bcbc",
    "scrolled": false
   },
   "outputs": [
    {
     "data": {
      "image/png": "[encoded data removed]",
      "text/plain": [
       "<Figure size 720x504 with 1 Axes>"
      ]
     },
     "metadata": {},
     "output_type": "display_data"
    }
   ],
   "source": [
    "sns.countplot(x='area_code', hue='churn', data=df);"
   ]
  },
  {
   "cell_type": "markdown",
   "metadata": {
    "id": "eiSV5LfMooXr"
   },
   "source": [
    "### phone_number"
   ]
  },
  {
   "cell_type": "code",
   "execution_count": 15,
   "metadata": {
    "colab": {
     "base_uri": "https://localhost:8080/"
    },
    "id": "3nxPm5EbooXs",
    "outputId": "d3f03ade-7e45-4efe-ef29-efd0d600c071"
   },
   "outputs": [
    {
     "data": {
      "text/plain": [
       "3333"
      ]
     },
     "execution_count": 15,
     "metadata": {},
     "output_type": "execute_result"
    }
   ],
   "source": [
    "df['phone_number'].nunique()"
   ]
  },
  {
   "cell_type": "code",
   "execution_count": 16,
   "metadata": {
    "id": "JREnWU1kooXx"
   },
   "outputs": [],
   "source": [
    "df.drop('phone_number', axis=1, inplace=True)"
   ]
  },
  {
   "cell_type": "markdown",
   "metadata": {
    "id": "7PvhxG07ooX0"
   },
   "source": [
    "### international_plan"
   ]
  },
  {
   "cell_type": "code",
   "execution_count": 17,
   "metadata": {
    "id": "hhjm8vVVooX0"
   },
   "outputs": [],
   "source": [
    "df['international_plan'] = df['international_plan'].map({'no': 0, 'yes': 1})"
   ]
  },
  {
   "cell_type": "markdown",
   "metadata": {
    "id": "rrn3geMEooX4"
   },
   "source": [
    "### voice_mail_plan"
   ]
  },
  {
   "cell_type": "code",
   "execution_count": 18,
   "metadata": {
    "id": "iQEqXXOVooX5"
   },
   "outputs": [],
   "source": [
    "df['voice_mail_plan'] = df['voice_mail_plan'].map({'no': 0, 'yes': 1})"
   ]
  },
  {
   "cell_type": "markdown",
   "metadata": {
    "id": "_k2y9ubuooX7"
   },
   "source": [
    "### churn"
   ]
  },
  {
   "cell_type": "code",
   "execution_count": 19,
   "metadata": {
    "id": "bge0VFG7ooX7"
   },
   "outputs": [],
   "source": [
    "df['churn'] = df['churn'].map({False: 0, True: 1})"
   ]
  },
  {
   "cell_type": "code",
   "execution_count": 20,
   "metadata": {
    "colab": {
     "base_uri": "https://localhost:8080/"
    },
    "id": "GRTu4xayooYA",
    "outputId": "920d6eab-1a41-4141-db53-a6c18dc465b2"
   },
   "outputs": [
    {
     "data": {
      "text/plain": [
       "0    85.51\n",
       "1    14.49\n",
       "Name: churn, dtype: float64"
      ]
     },
     "execution_count": 20,
     "metadata": {},
     "output_type": "execute_result"
    }
   ],
   "source": [
    "round(df['churn'].value_counts(normalize=True)*100,2)"
   ]
  },
  {
   "cell_type": "markdown",
   "metadata": {
    "id": "Nmpaw_d8ooYF"
   },
   "source": [
    "Only 14.49% of the customers ended their contract with the company."
   ]
  },
  {
   "cell_type": "markdown",
   "metadata": {
    "id": "pS4KDyP8ooYF"
   },
   "source": [
    "## FEATURE ENGINEERING"
   ]
  },
  {
   "cell_type": "markdown",
   "metadata": {
    "id": "GDxfDNfEooYG"
   },
   "source": [
    "### total_charge\n",
    "\n",
    "*total_charge* column is the sum of all the charges a customer pays. It is the bill amount column."
   ]
  },
  {
   "cell_type": "code",
   "execution_count": 21,
   "metadata": {
    "id": "nxc59z7-ooYH"
   },
   "outputs": [],
   "source": [
    "df['total_charge'] = np.nan\n",
    "for i in range(len(df['total_eve_charge'])):\n",
    "    df['total_charge'][i] = round(df['total_day_charge'][i] + df['total_eve_charge'][i] \n",
    "                                  + df['total_night_charge'][i] + df['total_intl_charge'][i])"
   ]
  },
  {
   "cell_type": "markdown",
   "metadata": {
    "id": "9GlVU3scooYK"
   },
   "source": [
    "### total_calls\n",
    "\n",
    "*total_calls* column is the sum of all the calls made by the customer except customer service calls."
   ]
  },
  {
   "cell_type": "code",
   "execution_count": 22,
   "metadata": {
    "id": "-eKs8BvTooYL"
   },
   "outputs": [],
   "source": [
    "df['total_calls'] = np.nan\n",
    "for i in range(len(df['total_eve_calls'])):\n",
    "    df['total_calls'][i] = round(df['total_day_calls'][i] + df['total_eve_calls'][i] \n",
    "                                  + df['total_night_calls'][i] + df['total_intl_calls'][i])"
   ]
  },
  {
   "cell_type": "markdown",
   "metadata": {
    "id": "hbSySLLKooYO"
   },
   "source": [
    "### total_minutes\n",
    "\n",
    "*total_minutes* column is the sum of all the minutes used by the customer."
   ]
  },
  {
   "cell_type": "code",
   "execution_count": 23,
   "metadata": {
    "id": "FFnJlFhjooYP"
   },
   "outputs": [],
   "source": [
    "df['total_minutes'] = np.nan\n",
    "for i in range(len(df['total_eve_minutes'])):\n",
    "    df['total_minutes'][i] = round(df['total_day_minutes'][i] + df['total_eve_minutes'][i] \n",
    "                                  + df['total_night_minutes'][i] + df['total_intl_minutes'][i])"
   ]
  },
  {
   "cell_type": "markdown",
   "metadata": {
    "id": "LVTKZoBqooYS"
   },
   "source": [
    "### average_charge_per_call\n",
    "\n",
    "This column calculates the average charge per call for day, evening, night time calls and international calls."
   ]
  },
  {
   "cell_type": "code",
   "execution_count": 24,
   "metadata": {
    "id": "-c97msTYooYS"
   },
   "outputs": [],
   "source": [
    "#  'total day minutes', 'total day calls', 'total day charge'\n",
    "df['day_charge_per_call'] = np.nan\n",
    "for i in range(len(df['total_day_minutes'])):\n",
    "    df['day_charge_per_call'][i] = round(df['total_day_charge'][i] / (df['total_day_calls'][i] + 0.00000000001), 3)\n",
    "    \n",
    "#  'total eve minutes', 'total eve calls', 'total eve charge'\n",
    "df['eve_charge_per_call'] = np.nan\n",
    "for i in range(len(df['total_eve_minutes'])):\n",
    "    df['eve_charge_per_call'][i] = round(df['total_eve_charge'][i] / (df['total_eve_calls'][i] + 0.00000000001), 3)\n",
    "    \n",
    "# 'total night minutes', 'total night calls', 'total night charge'\n",
    "df['night_charge_per_call'] = np.nan\n",
    "for i in range(len(df['total_night_minutes'])):\n",
    "    df['night_charge_per_call'][i] = round(df['total_night_charge'][i] / (df['total_night_calls'][i] + 0.00000000001), 3)\n",
    "\n",
    "# 'total intl minutes', 'total intl calls', 'total intl charge'\n",
    "df['intl_charge_per_call'] = np.nan\n",
    "for i in range(len(df['total_intl_minutes'])):\n",
    "    df['intl_charge_per_call'][i] = round(df['total_intl_charge'][i] / (df['total_intl_calls'][i] + 0.00000000001), 3)\n"
   ]
  },
  {
   "cell_type": "markdown",
   "metadata": {
    "id": "aMUmQYueooYV"
   },
   "source": [
    "### average_call_length_per_call\n",
    "\n",
    "This column calculates the average call length per call for day, evening, night time calls and international calls."
   ]
  },
  {
   "cell_type": "code",
   "execution_count": 25,
   "metadata": {
    "id": "QzewdKNhooYW"
   },
   "outputs": [],
   "source": [
    "#  'total day minutes', 'total day calls', 'total day charge'\n",
    "df['day_call_length_per_call'] = np.nan\n",
    "for i in range(len(df['total_day_minutes'])):\n",
    "    df['day_call_length_per_call'][i] = round(df['total_day_minutes'][i] / (df['total_day_calls'][i]  + 0.00000000001), 3)\n",
    "    \n",
    "#  'total eve minutes', 'total eve calls', 'total eve charge'\n",
    "df['eve_call_length_per_call'] = np.nan\n",
    "for i in range(len(df['total_eve_minutes'])):\n",
    "    df['eve_call_length_per_call'][i] = round(df['total_eve_minutes'][i] / (df['total_eve_calls'][i]  + 0.00000000001), 3)\n",
    "    \n",
    "#  'total night minutes', 'total night calls', 'total night charge'\n",
    "df['night_call_length_per_call'] = np.nan\n",
    "for i in range(len(df['total_night_minutes'])):\n",
    "    df['night_call_length_per_call'][i] = round(df['total_night_minutes'][i] / (df['total_night_calls'][i]  + 0.00000000001), 3)\n",
    "\n",
    "# 'total intl minutes', 'total intl calls', 'total intl charge'\n",
    "df['intl_call_length_per_call'] = np.nan\n",
    "for i in range(len(df['total_intl_minutes'])):\n",
    "    df['intl_call_length_per_call'][i] = round(df['total_intl_minutes'][i] / (df['total_intl_calls'][i]  + 0.00000000001), 3)  \n"
   ]
  },
  {
   "cell_type": "markdown",
   "metadata": {
    "id": "aRIxKaCZooYb"
   },
   "source": [
    "### average_call_charge_per_minute\n",
    "\n",
    "This column calculates the average call charge per minute for day, evening, night time calls and international calls."
   ]
  },
  {
   "cell_type": "code",
   "execution_count": 26,
   "metadata": {
    "id": "-pLsD1R2ooYc"
   },
   "outputs": [],
   "source": [
    "#  'total day minutes', 'total day calls', 'total day charge'\n",
    "df['day_charge_per_min'] = np.nan\n",
    "for i in range(len(df['total_day_minutes'])):\n",
    "    df['day_charge_per_min'][i] = round(df['total_day_charge'][i] / (df['total_day_minutes'][i] + 0.00000000001), 3)\n",
    "    \n",
    "#  'total eve minutes', 'total eve calls', 'total eve charge'\n",
    "df['eve_charge_per_min'] = np.nan\n",
    "for i in range(len(df['total_eve_minutes'])):\n",
    "    df['eve_charge_per_min'][i] = round(df['total_eve_charge'][i] / (df['total_eve_minutes'][i] + 0.00000000001), 3)\n",
    "    \n",
    "# 'total night minutes', 'total night calls', 'total night charge'\n",
    "df['night_charge_per_min'] = np.nan\n",
    "for i in range(len(df['total_night_minutes'])):\n",
    "    df['night_charge_per_min'][i] = round(df['total_night_charge'][i] / (df['total_night_minutes'][i] + 0.00000000001), 3)\n",
    "\n",
    "# 'total intl minutes', 'total intl calls', 'total intl charge'\n",
    "df['intl_charge_per_min'] = np.nan\n",
    "for i in range(len(df['total_intl_minutes'])):\n",
    "    df['intl_charge_per_min'][i] = round(df['total_intl_charge'][i] / (df['total_intl_minutes'][i] + 0.00000000001), 3)\n"
   ]
  },
  {
   "cell_type": "markdown",
   "metadata": {
    "id": "3MUA9TxTooYf"
   },
   "source": [
    "### charge_percentage\n",
    "\n",
    "This column calculates the charge percentage for day, evening, night time calls and international calls."
   ]
  },
  {
   "cell_type": "code",
   "execution_count": 27,
   "metadata": {
    "id": "tkdt5s20ooYg"
   },
   "outputs": [],
   "source": [
    "#  'total day minutes', 'total day calls', 'total day charge'\n",
    "df['day_charge_percentage'] = np.nan\n",
    "for i in range(len(df['total_day_minutes'])):\n",
    "    df['day_charge_percentage'][i] = round(df['total_day_charge'][i] / (df['total_charge'][i] + 0.00000000001), 3)\n",
    "    \n",
    "#  'total eve minutes', 'total eve calls', 'total eve charge'\n",
    "df['eve_charge_percentage'] = np.nan\n",
    "for i in range(len(df['total_eve_minutes'])):\n",
    "    df['eve_charge_percentage'][i] = round(df['total_eve_charge'][i] / (df['total_charge'][i] + 0.00000000001), 3)\n",
    "    \n",
    "# 'total night minutes', 'total night calls', 'total night charge'\n",
    "df['night_charge_percentage'] = np.nan\n",
    "for i in range(len(df['total_night_minutes'])):\n",
    "    df['night_charge_percentage'][i] = round(df['total_night_charge'][i] / (df['total_charge'][i] + 0.00000000001), 3)\n",
    "\n",
    "# 'total intl minutes', 'total intl calls', 'total intl charge'\n",
    "df['intl_charge_percentage'] = np.nan\n",
    "for i in range(len(df['total_intl_minutes'])):\n",
    "    df['intl_charge_percentage'][i] = round(df['total_intl_charge'][i] / (df['total_charge'][i] + 0.00000000001), 3)\n"
   ]
  },
  {
   "cell_type": "markdown",
   "metadata": {},
   "source": [
    "Let's check our new dataset."
   ]
  },
  {
   "cell_type": "code",
   "execution_count": 28,
   "metadata": {},
   "outputs": [
    {
     "data": {
      "image/png": "[encoded data removed]",
      "text/plain": [
       "<Figure size 1440x1440 with 40 Axes>"
      ]
     },
     "metadata": {},
     "output_type": "display_data"
    }
   ],
   "source": [
    "df.hist(bins='auto', layout=(5,8), figsize = (20,20));"
   ]
  },
  {
   "cell_type": "markdown",
   "metadata": {
    "id": "xCbUWeQqooYp"
   },
   "source": [
    "__Let's save our new data set for Exploratory Data Analysis__"
   ]
  },
  {
   "cell_type": "code",
   "execution_count": 29,
   "metadata": {
    "colab": {
     "base_uri": "https://localhost:8080/",
     "height": 307
    },
    "id": "wvqHZLILooYq",
    "outputId": "929337e0-0c31-4068-cdb2-1c8643f770a0"
   },
   "outputs": [],
   "source": [
    "df.to_csv('/Users/ulku/Data Science 2.1 /Module_3/dsc-mod-3-project-v2-1-online-ds-sp-000-master/CSV_Files/customer_churn_data_cleaned.csv')"
   ]
  }
 ],
 "metadata": {
  "colab": {
   "name": "Data Cleaning & Feature Engineering.ipynb",
   "provenance": []
  },
  "kernelspec": {
   "display_name": "Python 3",
   "language": "python",
   "name": "python3"
  },
  "language_info": {
   "codemirror_mode": {
    "name": "ipython",
    "version": 3
   },
   "file_extension": ".py",
   "mimetype": "text/x-python",
   "name": "python",
   "nbconvert_exporter": "python",
   "pygments_lexer": "ipython3",
   "version": "3.8.3"
  }
 },
 "nbformat": 4,
 "nbformat_minor": 1
}
